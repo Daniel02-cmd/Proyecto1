{
 "cells": [
  {
   "cell_type": "markdown",
   "metadata": {},
   "source": [
    "# Análisis de la variable de tiempo"
   ]
  },
  {
   "cell_type": "code",
   "execution_count": 3,
   "metadata": {},
   "outputs": [
    {
     "name": "stdout",
     "output_type": "stream",
     "text": [
      "<class 'pandas.core.frame.DataFrame'>\n",
      "RangeIndex: 10000 entries, 0 to 9999\n",
      "Data columns (total 22 columns):\n",
      " #   Column         Non-Null Count  Dtype  \n",
      "---  ------         --------------  -----  \n",
      " 0   id             10000 non-null  int64  \n",
      " 1   category       10000 non-null  object \n",
      " 2   title          10000 non-null  object \n",
      " 3   body           10000 non-null  object \n",
      " 4   amenities      6451 non-null   object \n",
      " 5   bathrooms      9966 non-null   float64\n",
      " 6   bedrooms       9993 non-null   float64\n",
      " 7   currency       10000 non-null  object \n",
      " 8   fee            10000 non-null  object \n",
      " 9   has_photo      10000 non-null  object \n",
      " 10  pets_allowed   5837 non-null   object \n",
      " 11  price          10000 non-null  int64  \n",
      " 12  price_display  10000 non-null  object \n",
      " 13  price_type     10000 non-null  object \n",
      " 14  square_feet    10000 non-null  int64  \n",
      " 15  address        6673 non-null   object \n",
      " 16  cityname       9923 non-null   object \n",
      " 17  state          9923 non-null   object \n",
      " 18  latitude       9990 non-null   float64\n",
      " 19  longitude      9990 non-null   float64\n",
      " 20  source         10000 non-null  object \n",
      " 21  time           10000 non-null  int64  \n",
      "dtypes: float64(4), int64(4), object(14)\n",
      "memory usage: 1.7+ MB\n"
     ]
    }
   ],
   "source": [
    "import pandas as pd\n",
    "\n",
    "#Cargar los datos\n",
    "file_path = 'datos_apartamentos_rent.csv'\n",
    "\n",
    "df = pd.read_csv(file_path, encoding=\"utf-8\",sep=';')\n",
    "#Se usa Latin1 debido a que hay algunos caracteres que no identifican\n",
    "\n",
    "\n",
    "df.info()"
   ]
  },
  {
   "cell_type": "markdown",
   "metadata": {},
   "source": [
    "## Transformación de la variable time"
   ]
  },
  {
   "cell_type": "code",
   "execution_count": 9,
   "metadata": {},
   "outputs": [
    {
     "data": {
      "text/plain": [
       "0   2019-12-26 11:23:35\n",
       "1   2019-12-22 12:17:43\n",
       "2   2019-12-26 11:23:30\n",
       "3   2019-12-18 11:15:43\n",
       "4   2019-12-26 11:23:21\n",
       "Name: created_at, dtype: datetime64[ns]"
      ]
     },
     "execution_count": 9,
     "metadata": {},
     "output_type": "execute_result"
    }
   ],
   "source": [
    "# Convert Unix timestamp to datetime\n",
    "df['created_at'] = pd.to_datetime(df['time'], unit='s')\n",
    "df['created_at'].head()"
   ]
  },
  {
   "cell_type": "code",
   "execution_count": null,
   "metadata": {},
   "outputs": [
    {
     "data": {
      "text/plain": [
       "0   2019-12-01\n",
       "1   2019-12-01\n",
       "2   2019-12-01\n",
       "3   2019-12-01\n",
       "4   2019-12-01\n",
       "Name: created_month, dtype: datetime64[ns]"
      ]
     },
     "execution_count": 11,
     "metadata": {},
     "output_type": "execute_result"
    }
   ],
   "source": [
    "# Replace the day with 1 for each date\n",
    "df['created_month'] = df['created_at'].dt.to_period('M').dt.to_timestamp()\n",
    "df['created_month'].head()"
   ]
  },
  {
   "cell_type": "markdown",
   "metadata": {},
   "source": [
    "## Análisis de la variable de tiempo"
   ]
  },
  {
   "cell_type": "markdown",
   "metadata": {},
   "source": [
    "Se observa que los datos son de un tiempo muy corto y desproporcional entre los meses"
   ]
  },
  {
   "cell_type": "code",
   "execution_count": 15,
   "metadata": {},
   "outputs": [
    {
     "data": {
      "text/plain": [
       "created_month\n",
       "2019-09-01    2719\n",
       "2019-10-01      15\n",
       "2019-11-01      29\n",
       "2019-12-01    7237\n",
       "dtype: int64"
      ]
     },
     "execution_count": 15,
     "metadata": {},
     "output_type": "execute_result"
    }
   ],
   "source": [
    "df.groupby('created_month')[['created_month','price']].size()"
   ]
  },
  {
   "cell_type": "markdown",
   "metadata": {},
   "source": [
    "Igualmente no es que haya diferencias significativas entre cada uno"
   ]
  },
  {
   "cell_type": "code",
   "execution_count": 18,
   "metadata": {},
   "outputs": [
    {
     "data": {
      "application/vnd.microsoft.datawrangler.viewer.v0+json": {
       "columns": [
        {
         "name": "created_month",
         "rawType": "datetime64[ns]",
         "type": "datetime"
        },
        {
         "name": "price",
         "rawType": "float64",
         "type": "float"
        }
       ],
       "conversionMethod": "pd.DataFrame",
       "ref": "c6dc9fab-47b8-45d6-9dc2-d2e201dfd0ad",
       "rows": [
        [
         "2019-09-01 00:00:00",
         "1520.4225818315558"
        ],
        [
         "2019-10-01 00:00:00",
         "1548.8"
        ],
        [
         "2019-11-01 00:00:00",
         "1792.6896551724137"
        ],
        [
         "2019-12-01 00:00:00",
         "1472.091474367832"
        ]
       ],
       "shape": {
        "columns": 1,
        "rows": 4
       }
      },
      "text/html": [
       "<div>\n",
       "<style scoped>\n",
       "    .dataframe tbody tr th:only-of-type {\n",
       "        vertical-align: middle;\n",
       "    }\n",
       "\n",
       "    .dataframe tbody tr th {\n",
       "        vertical-align: top;\n",
       "    }\n",
       "\n",
       "    .dataframe thead th {\n",
       "        text-align: right;\n",
       "    }\n",
       "</style>\n",
       "<table border=\"1\" class=\"dataframe\">\n",
       "  <thead>\n",
       "    <tr style=\"text-align: right;\">\n",
       "      <th></th>\n",
       "      <th>price</th>\n",
       "    </tr>\n",
       "    <tr>\n",
       "      <th>created_month</th>\n",
       "      <th></th>\n",
       "    </tr>\n",
       "  </thead>\n",
       "  <tbody>\n",
       "    <tr>\n",
       "      <th>2019-09-01</th>\n",
       "      <td>1520.422582</td>\n",
       "    </tr>\n",
       "    <tr>\n",
       "      <th>2019-10-01</th>\n",
       "      <td>1548.800000</td>\n",
       "    </tr>\n",
       "    <tr>\n",
       "      <th>2019-11-01</th>\n",
       "      <td>1792.689655</td>\n",
       "    </tr>\n",
       "    <tr>\n",
       "      <th>2019-12-01</th>\n",
       "      <td>1472.091474</td>\n",
       "    </tr>\n",
       "  </tbody>\n",
       "</table>\n",
       "</div>"
      ],
      "text/plain": [
       "                     price\n",
       "created_month             \n",
       "2019-09-01     1520.422582\n",
       "2019-10-01     1548.800000\n",
       "2019-11-01     1792.689655\n",
       "2019-12-01     1472.091474"
      ]
     },
     "execution_count": 18,
     "metadata": {},
     "output_type": "execute_result"
    }
   ],
   "source": [
    "df.groupby('created_month')[['created_month','price']].mean('price')"
   ]
  },
  {
   "cell_type": "markdown",
   "metadata": {},
   "source": [
    "## Vista de la variable diaria"
   ]
  },
  {
   "cell_type": "code",
   "execution_count": 19,
   "metadata": {},
   "outputs": [
    {
     "data": {
      "text/plain": [
       "0   2019-12-26\n",
       "1   2019-12-22\n",
       "2   2019-12-26\n",
       "3   2019-12-18\n",
       "4   2019-12-26\n",
       "Name: created_day, dtype: datetime64[ns]"
      ]
     },
     "execution_count": 19,
     "metadata": {},
     "output_type": "execute_result"
    }
   ],
   "source": [
    "# Replace the day with 1 for each date\n",
    "df['created_day'] = df['created_at'].dt.to_period('D').dt.to_timestamp()\n",
    "df['created_day'].head()"
   ]
  },
  {
   "cell_type": "code",
   "execution_count": 23,
   "metadata": {},
   "outputs": [
    {
     "data": {
      "image/png": "[encoded data removed]",
      "text/plain": [
       "<Figure size 640x480 with 1 Axes>"
      ]
     },
     "metadata": {},
     "output_type": "display_data"
    }
   ],
   "source": [
    "import seaborn as sns\n",
    "import matplotlib.pyplot as plt\n",
    "\n",
    "\n",
    "subdf1 = df.groupby('created_day')[['created_day','price']].mean('price').reset_index()\n",
    "\n",
    "# Create the time series plot\n",
    "sns.lineplot(x='created_day', y='price', data=subdf1)\n",
    "plt.xlabel('Date')\n",
    "plt.ylabel('Value')\n",
    "plt.title('Time Series Plot')\n",
    "\n",
    "plt.show()"
   ]
  },
  {
   "cell_type": "markdown",
   "metadata": {},
   "source": [
    "## Conclusión\n",
    "Se descarta la variable time para el modelo por su insignificancia"
   ]
  }
 ],
 "metadata": {
  "kernelspec": {
   "display_name": "uniandes_actd",
   "language": "python",
   "name": "python3"
  },
  "language_info": {
   "codemirror_mode": {
    "name": "ipython",
    "version": 3
   },
   "file_extension": ".py",
   "mimetype": "text/x-python",
   "name": "python",
   "nbconvert_exporter": "python",
   "pygments_lexer": "ipython3",
   "version": "3.11.11"
  }
 },
 "nbformat": 4,
 "nbformat_minor": 2
}
